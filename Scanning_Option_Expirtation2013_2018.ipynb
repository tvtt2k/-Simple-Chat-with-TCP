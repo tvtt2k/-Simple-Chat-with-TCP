{
  "nbformat": 4,
  "nbformat_minor": 0,
  "metadata": {
    "colab": {
      "provenance": [],
      "authorship_tag": "ABX9TyOtbeJd0/MavoVJrfYeasvg",
      "include_colab_link": true
    },
    "kernelspec": {
      "name": "python3",
      "display_name": "Python 3"
    },
    "language_info": {
      "name": "python"
    }
  },
  "cells": [
    {
      "cell_type": "markdown",
      "metadata": {
        "id": "view-in-github",
        "colab_type": "text"
      },
      "source": [
        "<a href=\"https://colab.research.google.com/github/tvtt2k/-Simple-Chat-with-TCP/blob/main/Scanning_Option_Expirtation2013_2018.ipynb\" target=\"_parent\"><img src=\"https://colab.research.google.com/assets/colab-badge.svg\" alt=\"Open In Colab\"/></a>"
      ]
    },
    {
      "cell_type": "code",
      "source": [
        "from bs4 import BeautifulSoup\n",
        "\n",
        "# Initialize an empty list to store the values\n",
        "values_list = []\n",
        "\n",
        "# List of HTML files for each year\n",
        "files = [\n",
        "    '/content/Options Expiration Calendar - MarketWatch_2013.html',\n",
        "    '/content/Options Expiration Calendar - MarketWatch2014.html',\n",
        "    '/content/Options Expiration Calendar - MarketWatch2015.html',\n",
        "    '/content/Options Expiration Calendar - MarketWatch2016.html',\n",
        "    '/content/Options Expiration Calendar - MarketWatch2017.html',\n",
        "    '/content/Options Expiration Calendar - MarketWatch2018.html'\n",
        "]\n",
        "\n",
        "for file_name in files:\n",
        "    # Open and read the HTML file\n",
        "    with open(file_name, 'r') as file:\n",
        "        html_content = file.read()\n",
        "\n",
        "    # Parse the HTML content using BeautifulSoup\n",
        "    soup = BeautifulSoup(html_content, 'html.parser')\n",
        "\n",
        "    # Find all td elements with the specific class name\n",
        "    td_elements = soup.find_all('td', class_='stop-trading date')\n",
        "\n",
        "    # Loop through all found elements and append their text content to the list\n",
        "    for td in td_elements:\n",
        "        value = td.get_text().strip()  # Extract and strip the text content\n",
        "        values_list.append(value)\n",
        "\n",
        "# Print the accumulated list of values\n",
        "print(\"Extracted Values:\", values_list)"
      ],
      "metadata": {
        "colab": {
          "base_uri": "https://localhost:8080/"
        },
        "id": "srNZWmuAWAql",
        "outputId": "51cce92b-7ba7-48c0-f934-283cd72b0977"
      },
      "execution_count": null,
      "outputs": [
        {
          "output_type": "stream",
          "name": "stdout",
          "text": [
            "Extracted Values: ['18', '15', '15', '19', '17', '21', '19', '16', '20', '18', '15', '20', '17', '21', '21', '17', '16', '20', '18', '15', '19', '17', '21', '19', '16', '20', '20', '17', '15', '19', '17', '21', '18', '16', '20', '18', '15', '19', '18', '15', '20', '17', '15', '19', '16', '21', '18', '16', '20', '17', '17', '21', '19', '16', '21', '18', '15', '20', '17', '15', '19', '16', '16', '20', '18', '15', '20', '17', '21', '19', '16', '21']\n"
          ]
        }
      ]
    },
    {
      "cell_type": "code",
      "source": [
        "import pandas as pd\n",
        "df = pd.DataFrame(values_list, columns=['Value'])\n",
        "\n",
        "# Save the DataFrame to a CSV file\n",
        "df.to_csv('values.csv', index=False)\n",
        "\n",
        "print(\"Data saved to values.csv\")"
      ],
      "metadata": {
        "colab": {
          "base_uri": "https://localhost:8080/"
        },
        "id": "lYa6DHSlXS2e",
        "outputId": "a522b907-a7ea-4aff-e724-7d2a12c64b97"
      },
      "execution_count": null,
      "outputs": [
        {
          "output_type": "stream",
          "name": "stdout",
          "text": [
            "Data saved to values.csv\n"
          ]
        }
      ]
    },
    {
      "cell_type": "code",
      "source": [
        "import os\n",
        "print(os.getcwd())"
      ],
      "metadata": {
        "colab": {
          "base_uri": "https://localhost:8080/"
        },
        "id": "YffgXIhlXhMi",
        "outputId": "b439587d-322b-48cf-e494-22c907e5fa4d"
      },
      "execution_count": null,
      "outputs": [
        {
          "output_type": "stream",
          "name": "stdout",
          "text": [
            "/content\n"
          ]
        }
      ]
    },
    {
      "cell_type": "code",
      "source": [],
      "metadata": {
        "id": "F_PM49ZZYVoP"
      },
      "execution_count": null,
      "outputs": []
    }
  ]
}